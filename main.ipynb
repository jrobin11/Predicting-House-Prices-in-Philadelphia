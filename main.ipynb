{
 "cells": [
  {
   "cell_type": "code",
   "execution_count": 403,
   "id": "7ef1fd82-41f3-4c60-a6ee-62c9d144ca44",
   "metadata": {},
   "outputs": [
    {
     "name": "stdout",
     "output_type": "stream",
     "text": [
      "Requirement already satisfied: matplotlib in /Users/robinj/anaconda3/lib/python3.11/site-packages (3.7.2)\n",
      "Requirement already satisfied: seaborn in /Users/robinj/anaconda3/lib/python3.11/site-packages (0.12.2)\n",
      "Requirement already satisfied: contourpy>=1.0.1 in /Users/robinj/anaconda3/lib/python3.11/site-packages (from matplotlib) (1.0.5)\n",
      "Requirement already satisfied: cycler>=0.10 in /Users/robinj/anaconda3/lib/python3.11/site-packages (from matplotlib) (0.11.0)\n",
      "Requirement already satisfied: fonttools>=4.22.0 in /Users/robinj/anaconda3/lib/python3.11/site-packages (from matplotlib) (4.25.0)\n",
      "Requirement already satisfied: kiwisolver>=1.0.1 in /Users/robinj/anaconda3/lib/python3.11/site-packages (from matplotlib) (1.4.4)\n",
      "Requirement already satisfied: numpy>=1.20 in /Users/robinj/anaconda3/lib/python3.11/site-packages (from matplotlib) (1.24.3)\n",
      "Requirement already satisfied: packaging>=20.0 in /Users/robinj/anaconda3/lib/python3.11/site-packages (from matplotlib) (23.1)\n",
      "Requirement already satisfied: pillow>=6.2.0 in /Users/robinj/anaconda3/lib/python3.11/site-packages (from matplotlib) (10.0.1)\n",
      "Requirement already satisfied: pyparsing<3.1,>=2.3.1 in /Users/robinj/anaconda3/lib/python3.11/site-packages (from matplotlib) (3.0.9)\n",
      "Requirement already satisfied: python-dateutil>=2.7 in /Users/robinj/anaconda3/lib/python3.11/site-packages (from matplotlib) (2.8.2)\n",
      "Requirement already satisfied: pandas>=0.25 in /Users/robinj/anaconda3/lib/python3.11/site-packages (from seaborn) (2.0.3)\n",
      "Requirement already satisfied: pytz>=2020.1 in /Users/robinj/anaconda3/lib/python3.11/site-packages (from pandas>=0.25->seaborn) (2023.3.post1)\n",
      "Requirement already satisfied: tzdata>=2022.1 in /Users/robinj/anaconda3/lib/python3.11/site-packages (from pandas>=0.25->seaborn) (2023.3)\n",
      "Requirement already satisfied: six>=1.5 in /Users/robinj/anaconda3/lib/python3.11/site-packages (from python-dateutil>=2.7->matplotlib) (1.16.0)\n",
      "Note: you may need to restart the kernel to use updated packages.\n"
     ]
    }
   ],
   "source": [
    "pip install matplotlib seaborn"
   ]
  },
  {
   "cell_type": "code",
   "execution_count": 404,
   "id": "8ac492d7-8b3f-43c3-a383-a722df2facca",
   "metadata": {
    "tags": []
   },
   "outputs": [],
   "source": [
    "import pandas as pd\n",
    "import numpy as np\n",
    "from scipy import stats\n",
    "from sklearn.model_selection import train_test_split\n",
    "from sklearn.linear_model import LinearRegression\n",
    "from sklearn.metrics import mean_squared_error\n",
    "from sklearn.ensemble import RandomForestRegressor\n",
    "from sklearn.model_selection import GridSearchCV\n",
    "import matplotlib.pyplot as plt\n",
    "import seaborn as sns"
   ]
  },
  {
   "cell_type": "code",
   "execution_count": 405,
   "id": "47d56b6e-c19d-4649-a4b4-c8c84a472734",
   "metadata": {
    "tags": []
   },
   "outputs": [],
   "source": [
    "# Load the dataset\n",
    "data = pd.read_csv('philly_housing.csv', low_memory=False)"
   ]
  },
  {
   "cell_type": "code",
   "execution_count": 406,
   "id": "be38996d-8b26-4e27-aad0-0523079ca851",
   "metadata": {
    "tags": []
   },
   "outputs": [
    {
     "name": "stdout",
     "output_type": "stream",
     "text": [
      "Initial Data:\n"
     ]
    },
    {
     "data": {
      "text/html": [
       "<div>\n",
       "<style scoped>\n",
       "    .dataframe tbody tr th:only-of-type {\n",
       "        vertical-align: middle;\n",
       "    }\n",
       "\n",
       "    .dataframe tbody tr th {\n",
       "        vertical-align: top;\n",
       "    }\n",
       "\n",
       "    .dataframe thead th {\n",
       "        text-align: right;\n",
       "    }\n",
       "</style>\n",
       "<table border=\"1\" class=\"dataframe\">\n",
       "  <thead>\n",
       "    <tr style=\"text-align: right;\">\n",
       "      <th></th>\n",
       "      <th>objectid</th>\n",
       "      <th>assessment_date</th>\n",
       "      <th>basements</th>\n",
       "      <th>beginning_point</th>\n",
       "      <th>book_and_page</th>\n",
       "      <th>building_code</th>\n",
       "      <th>building_code_description</th>\n",
       "      <th>category_code</th>\n",
       "      <th>category_code_description</th>\n",
       "      <th>census_tract</th>\n",
       "      <th>...</th>\n",
       "      <th>utility</th>\n",
       "      <th>view_type</th>\n",
       "      <th>year_built</th>\n",
       "      <th>year_built_estimate</th>\n",
       "      <th>zip_code</th>\n",
       "      <th>zoning</th>\n",
       "      <th>pin</th>\n",
       "      <th>building_code_new</th>\n",
       "      <th>building_code_description_new</th>\n",
       "      <th>shape</th>\n",
       "    </tr>\n",
       "  </thead>\n",
       "  <tbody>\n",
       "    <tr>\n",
       "      <th>0</th>\n",
       "      <td>433143301</td>\n",
       "      <td>2022-05-24 12:13:13-04:00</td>\n",
       "      <td>NaN</td>\n",
       "      <td>120' NW EADOM ST</td>\n",
       "      <td>987458</td>\n",
       "      <td>RB</td>\n",
       "      <td>NON PD PKG LOT COMMERCIAL</td>\n",
       "      <td>6</td>\n",
       "      <td>VACANT LAND</td>\n",
       "      <td>381.0</td>\n",
       "      <td>...</td>\n",
       "      <td>NaN</td>\n",
       "      <td>I</td>\n",
       "      <td>NaN</td>\n",
       "      <td>NaN</td>\n",
       "      <td>19137.0</td>\n",
       "      <td>IRMX</td>\n",
       "      <td>1001189957</td>\n",
       "      <td>NaN</td>\n",
       "      <td>NaN</td>\n",
       "      <td>SRID=2272;POINT  ( 2719903.91837798 258128.691...</td>\n",
       "    </tr>\n",
       "    <tr>\n",
       "      <th>1</th>\n",
       "      <td>433143302</td>\n",
       "      <td>2022-05-24 12:13:13-04:00</td>\n",
       "      <td>NaN</td>\n",
       "      <td>273' N OF NORRIS ST</td>\n",
       "      <td>NaN</td>\n",
       "      <td>SR</td>\n",
       "      <td>VACANT LAND RESIDE &lt; ACRE</td>\n",
       "      <td>6</td>\n",
       "      <td>VACANT LAND</td>\n",
       "      <td>151.0</td>\n",
       "      <td>...</td>\n",
       "      <td>NaN</td>\n",
       "      <td>I</td>\n",
       "      <td>NaN</td>\n",
       "      <td>NaN</td>\n",
       "      <td>19121.0</td>\n",
       "      <td>RSA5</td>\n",
       "      <td>1001505175</td>\n",
       "      <td>NaN</td>\n",
       "      <td>NaN</td>\n",
       "      <td>SRID=2272;POINT  ( 2689968.64589956 248418.726...</td>\n",
       "    </tr>\n",
       "    <tr>\n",
       "      <th>2</th>\n",
       "      <td>433143303</td>\n",
       "      <td>2022-05-24 12:13:13-04:00</td>\n",
       "      <td>NaN</td>\n",
       "      <td>263' 8\" N COLUMBIA AVE</td>\n",
       "      <td>NaN</td>\n",
       "      <td>U50</td>\n",
       "      <td>ROW CONV/APT 3 STY MASON</td>\n",
       "      <td>2</td>\n",
       "      <td>MULTI FAMILY</td>\n",
       "      <td>147.0</td>\n",
       "      <td>...</td>\n",
       "      <td>NaN</td>\n",
       "      <td>I</td>\n",
       "      <td>1890.0</td>\n",
       "      <td>NaN</td>\n",
       "      <td>19121.0</td>\n",
       "      <td>RM1</td>\n",
       "      <td>1001622123</td>\n",
       "      <td>22</td>\n",
       "      <td>ROW TYPICAL</td>\n",
       "      <td>SRID=2272;POINT  ( 2694035.04098198 246168.098...</td>\n",
       "    </tr>\n",
       "    <tr>\n",
       "      <th>3</th>\n",
       "      <td>433143304</td>\n",
       "      <td>2022-05-24 12:13:13-04:00</td>\n",
       "      <td>NaN</td>\n",
       "      <td>1,115.962' S PATTISON AVE</td>\n",
       "      <td>NaN</td>\n",
       "      <td>SS</td>\n",
       "      <td>VACANT LAND RESIDE ACRE+</td>\n",
       "      <td>6</td>\n",
       "      <td>VACANT LAND</td>\n",
       "      <td>NaN</td>\n",
       "      <td>...</td>\n",
       "      <td>NaN</td>\n",
       "      <td>I</td>\n",
       "      <td>NaN</td>\n",
       "      <td>NaN</td>\n",
       "      <td>NaN</td>\n",
       "      <td>NaN</td>\n",
       "      <td>1001319180</td>\n",
       "      <td>NaN</td>\n",
       "      <td>NaN</td>\n",
       "      <td>SRID=2272;POINT EMPTY</td>\n",
       "    </tr>\n",
       "    <tr>\n",
       "      <th>4</th>\n",
       "      <td>433143305</td>\n",
       "      <td>2022-05-24 12:13:13-04:00</td>\n",
       "      <td>NaN</td>\n",
       "      <td>NEC SCATTERGOOD TO</td>\n",
       "      <td>NaN</td>\n",
       "      <td>RB</td>\n",
       "      <td>NON PD PKG LOT COMMERCIAL</td>\n",
       "      <td>6</td>\n",
       "      <td>VACANT LAND</td>\n",
       "      <td>381.0</td>\n",
       "      <td>...</td>\n",
       "      <td>NaN</td>\n",
       "      <td>NaN</td>\n",
       "      <td>NaN</td>\n",
       "      <td>NaN</td>\n",
       "      <td>19137.0</td>\n",
       "      <td>IRMX</td>\n",
       "      <td>1001189938</td>\n",
       "      <td>NaN</td>\n",
       "      <td>NaN</td>\n",
       "      <td>SRID=2272;POINT  ( 2719639.63642623 258076.133...</td>\n",
       "    </tr>\n",
       "  </tbody>\n",
       "</table>\n",
       "<p>5 rows × 79 columns</p>\n",
       "</div>"
      ],
      "text/plain": [
       "    objectid            assessment_date basements            beginning_point  \\\n",
       "0  433143301  2022-05-24 12:13:13-04:00       NaN           120' NW EADOM ST   \n",
       "1  433143302  2022-05-24 12:13:13-04:00       NaN        273' N OF NORRIS ST   \n",
       "2  433143303  2022-05-24 12:13:13-04:00       NaN     263' 8\" N COLUMBIA AVE   \n",
       "3  433143304  2022-05-24 12:13:13-04:00       NaN  1,115.962' S PATTISON AVE   \n",
       "4  433143305  2022-05-24 12:13:13-04:00       NaN         NEC SCATTERGOOD TO   \n",
       "\n",
       "  book_and_page building_code  building_code_description  category_code  \\\n",
       "0        987458         RB     NON PD PKG LOT COMMERCIAL              6   \n",
       "1           NaN         SR     VACANT LAND RESIDE < ACRE              6   \n",
       "2           NaN         U50     ROW CONV/APT 3 STY MASON              2   \n",
       "3           NaN         SS      VACANT LAND RESIDE ACRE+              6   \n",
       "4           NaN         RB     NON PD PKG LOT COMMERCIAL              6   \n",
       "\n",
       "  category_code_description  census_tract  ... utility  view_type year_built  \\\n",
       "0               VACANT LAND         381.0  ...     NaN          I        NaN   \n",
       "1               VACANT LAND         151.0  ...     NaN          I        NaN   \n",
       "2              MULTI FAMILY         147.0  ...     NaN          I     1890.0   \n",
       "3               VACANT LAND           NaN  ...     NaN          I        NaN   \n",
       "4               VACANT LAND         381.0  ...     NaN        NaN        NaN   \n",
       "\n",
       "   year_built_estimate  zip_code  zoning         pin  building_code_new  \\\n",
       "0                  NaN   19137.0    IRMX  1001189957                NaN   \n",
       "1                  NaN   19121.0    RSA5  1001505175                NaN   \n",
       "2                  NaN   19121.0     RM1  1001622123                 22   \n",
       "3                  NaN       NaN     NaN  1001319180                NaN   \n",
       "4                  NaN   19137.0    IRMX  1001189938                NaN   \n",
       "\n",
       "   building_code_description_new  \\\n",
       "0                            NaN   \n",
       "1                            NaN   \n",
       "2                    ROW TYPICAL   \n",
       "3                            NaN   \n",
       "4                            NaN   \n",
       "\n",
       "                                               shape  \n",
       "0  SRID=2272;POINT  ( 2719903.91837798 258128.691...  \n",
       "1  SRID=2272;POINT  ( 2689968.64589956 248418.726...  \n",
       "2  SRID=2272;POINT  ( 2694035.04098198 246168.098...  \n",
       "3                              SRID=2272;POINT EMPTY  \n",
       "4  SRID=2272;POINT  ( 2719639.63642623 258076.133...  \n",
       "\n",
       "[5 rows x 79 columns]"
      ]
     },
     "execution_count": 406,
     "metadata": {},
     "output_type": "execute_result"
    }
   ],
   "source": [
    "# Display the first few rows of the DataFrame to verify it's loaded correctly\n",
    "print(\"Initial Data:\")\n",
    "data.head()"
   ]
  },
  {
   "cell_type": "code",
   "execution_count": 407,
   "id": "c7d1b5da-ce08-4c53-b192-ca8f2ebb9d3f",
   "metadata": {
    "tags": []
   },
   "outputs": [],
   "source": [
    "# List of columns to keep\n",
    "columns_to_keep = [\n",
    "    'objectid', 'assessment_date', 'basements', 'beginning_point', \n",
    "    'building_code_description', 'category_code_description', 'garage_spaces', \n",
    "    'location', 'market_value', 'number_of_bathrooms', 'number_of_bedrooms', \n",
    "    'number_of_rooms', 'number_stories', 'sale_price', 'state_code', \n",
    "    'street_name', 'year_built', 'zip_code'\n",
    "]"
   ]
  },
  {
   "cell_type": "code",
   "execution_count": 408,
   "id": "da534506-d46f-4ee8-98db-07941a54678f",
   "metadata": {
    "tags": []
   },
   "outputs": [],
   "source": [
    "# Select only the specified columns and drop rows with any NaN values\n",
    "data_cleaned = data[columns_to_keep].dropna()"
   ]
  },
  {
   "cell_type": "code",
   "execution_count": 409,
   "id": "b02e58ce-c9a0-443a-81c9-534ccaff9a4d",
   "metadata": {
    "tags": []
   },
   "outputs": [
    {
     "name": "stdout",
     "output_type": "stream",
     "text": [
      "\n",
      "Cleaned Data (Selected Columns, NaNs Dropped)::\n"
     ]
    },
    {
     "data": {
      "text/html": [
       "<div>\n",
       "<style scoped>\n",
       "    .dataframe tbody tr th:only-of-type {\n",
       "        vertical-align: middle;\n",
       "    }\n",
       "\n",
       "    .dataframe tbody tr th {\n",
       "        vertical-align: top;\n",
       "    }\n",
       "\n",
       "    .dataframe thead th {\n",
       "        text-align: right;\n",
       "    }\n",
       "</style>\n",
       "<table border=\"1\" class=\"dataframe\">\n",
       "  <thead>\n",
       "    <tr style=\"text-align: right;\">\n",
       "      <th></th>\n",
       "      <th>objectid</th>\n",
       "      <th>assessment_date</th>\n",
       "      <th>basements</th>\n",
       "      <th>beginning_point</th>\n",
       "      <th>building_code_description</th>\n",
       "      <th>category_code_description</th>\n",
       "      <th>garage_spaces</th>\n",
       "      <th>location</th>\n",
       "      <th>market_value</th>\n",
       "      <th>number_of_bathrooms</th>\n",
       "      <th>number_of_bedrooms</th>\n",
       "      <th>number_of_rooms</th>\n",
       "      <th>number_stories</th>\n",
       "      <th>sale_price</th>\n",
       "      <th>state_code</th>\n",
       "      <th>street_name</th>\n",
       "      <th>year_built</th>\n",
       "      <th>zip_code</th>\n",
       "    </tr>\n",
       "  </thead>\n",
       "  <tbody>\n",
       "    <tr>\n",
       "      <th>527</th>\n",
       "      <td>433143764</td>\n",
       "      <td>2022-05-24 12:13:13-04:00</td>\n",
       "      <td>E</td>\n",
       "      <td>NWC TORRESDALE AVE</td>\n",
       "      <td>VACANT LAND RESIDE &lt; ACRE</td>\n",
       "      <td>SINGLE FAMILY</td>\n",
       "      <td>2.0</td>\n",
       "      <td>4631 PRIMROSE RD</td>\n",
       "      <td>50800.0</td>\n",
       "      <td>1.0</td>\n",
       "      <td>4.0</td>\n",
       "      <td>7.0</td>\n",
       "      <td>2.0</td>\n",
       "      <td>8400.0</td>\n",
       "      <td>PA</td>\n",
       "      <td>PRIMROSE</td>\n",
       "      <td>2023.0</td>\n",
       "      <td>19114.0</td>\n",
       "    </tr>\n",
       "    <tr>\n",
       "      <th>991</th>\n",
       "      <td>433144230</td>\n",
       "      <td>2022-05-24 12:13:13-04:00</td>\n",
       "      <td>C</td>\n",
       "      <td>328' W 65TH ST</td>\n",
       "      <td>ROW 2 STY MASONRY</td>\n",
       "      <td>SINGLE FAMILY</td>\n",
       "      <td>0.0</td>\n",
       "      <td>6536 SAYBROOK AVE</td>\n",
       "      <td>47900.0</td>\n",
       "      <td>1.0</td>\n",
       "      <td>3.0</td>\n",
       "      <td>6.0</td>\n",
       "      <td>2.0</td>\n",
       "      <td>30000.0</td>\n",
       "      <td>PA</td>\n",
       "      <td>SAYBROOK</td>\n",
       "      <td>1920.0</td>\n",
       "      <td>19142.0</td>\n",
       "    </tr>\n",
       "    <tr>\n",
       "      <th>1030</th>\n",
       "      <td>433144269</td>\n",
       "      <td>2022-05-24 12:13:13-04:00</td>\n",
       "      <td>C</td>\n",
       "      <td>76' N OF MC KEAN ST</td>\n",
       "      <td>ROW 2 STY MASONRY</td>\n",
       "      <td>SINGLE FAMILY</td>\n",
       "      <td>0.0</td>\n",
       "      <td>1945 S BONSALL ST</td>\n",
       "      <td>82600.0</td>\n",
       "      <td>1.0</td>\n",
       "      <td>3.0</td>\n",
       "      <td>6.0</td>\n",
       "      <td>2.0</td>\n",
       "      <td>39200.0</td>\n",
       "      <td>PA</td>\n",
       "      <td>BONSALL</td>\n",
       "      <td>1920.0</td>\n",
       "      <td>19145.0</td>\n",
       "    </tr>\n",
       "    <tr>\n",
       "      <th>1227</th>\n",
       "      <td>433144466</td>\n",
       "      <td>2023-04-19 12:18:43-04:00</td>\n",
       "      <td>D</td>\n",
       "      <td>455'4 3/4\" E MORTON</td>\n",
       "      <td>ROW 3 STY STONE</td>\n",
       "      <td>SINGLE FAMILY</td>\n",
       "      <td>0.0</td>\n",
       "      <td>454 MECHANIC ST</td>\n",
       "      <td>99000.0</td>\n",
       "      <td>2.0</td>\n",
       "      <td>4.0</td>\n",
       "      <td>8.0</td>\n",
       "      <td>2.0</td>\n",
       "      <td>175000.0</td>\n",
       "      <td>NY</td>\n",
       "      <td>MECHANIC</td>\n",
       "      <td>1900.0</td>\n",
       "      <td>19144.0</td>\n",
       "    </tr>\n",
       "    <tr>\n",
       "      <th>1292</th>\n",
       "      <td>433144517</td>\n",
       "      <td>2022-05-24 12:13:13-04:00</td>\n",
       "      <td>G</td>\n",
       "      <td>SEC BARNES ST</td>\n",
       "      <td>APT 2-4 UNITS 2 STY MASON</td>\n",
       "      <td>MULTI FAMILY</td>\n",
       "      <td>2.0</td>\n",
       "      <td>5499 QUENTIN ST</td>\n",
       "      <td>292000.0</td>\n",
       "      <td>2.0</td>\n",
       "      <td>4.0</td>\n",
       "      <td>8.0</td>\n",
       "      <td>2.0</td>\n",
       "      <td>1.0</td>\n",
       "      <td>PA</td>\n",
       "      <td>QUENTIN</td>\n",
       "      <td>1970.0</td>\n",
       "      <td>19128.0</td>\n",
       "    </tr>\n",
       "  </tbody>\n",
       "</table>\n",
       "</div>"
      ],
      "text/plain": [
       "       objectid            assessment_date basements      beginning_point  \\\n",
       "527   433143764  2022-05-24 12:13:13-04:00         E   NWC TORRESDALE AVE   \n",
       "991   433144230  2022-05-24 12:13:13-04:00         C       328' W 65TH ST   \n",
       "1030  433144269  2022-05-24 12:13:13-04:00         C  76' N OF MC KEAN ST   \n",
       "1227  433144466  2023-04-19 12:18:43-04:00         D  455'4 3/4\" E MORTON   \n",
       "1292  433144517  2022-05-24 12:13:13-04:00         G        SEC BARNES ST   \n",
       "\n",
       "      building_code_description category_code_description  garage_spaces  \\\n",
       "527   VACANT LAND RESIDE < ACRE             SINGLE FAMILY            2.0   \n",
       "991           ROW 2 STY MASONRY             SINGLE FAMILY            0.0   \n",
       "1030          ROW 2 STY MASONRY             SINGLE FAMILY            0.0   \n",
       "1227            ROW 3 STY STONE             SINGLE FAMILY            0.0   \n",
       "1292  APT 2-4 UNITS 2 STY MASON              MULTI FAMILY            2.0   \n",
       "\n",
       "               location  market_value  number_of_bathrooms  \\\n",
       "527    4631 PRIMROSE RD       50800.0                  1.0   \n",
       "991   6536 SAYBROOK AVE       47900.0                  1.0   \n",
       "1030  1945 S BONSALL ST       82600.0                  1.0   \n",
       "1227    454 MECHANIC ST       99000.0                  2.0   \n",
       "1292    5499 QUENTIN ST      292000.0                  2.0   \n",
       "\n",
       "      number_of_bedrooms  number_of_rooms  number_stories  sale_price  \\\n",
       "527                  4.0              7.0             2.0      8400.0   \n",
       "991                  3.0              6.0             2.0     30000.0   \n",
       "1030                 3.0              6.0             2.0     39200.0   \n",
       "1227                 4.0              8.0             2.0    175000.0   \n",
       "1292                 4.0              8.0             2.0         1.0   \n",
       "\n",
       "     state_code street_name  year_built  zip_code  \n",
       "527        PA      PRIMROSE      2023.0   19114.0  \n",
       "991        PA      SAYBROOK      1920.0   19142.0  \n",
       "1030       PA       BONSALL      1920.0   19145.0  \n",
       "1227       NY      MECHANIC      1900.0   19144.0  \n",
       "1292       PA       QUENTIN      1970.0   19128.0  "
      ]
     },
     "execution_count": 409,
     "metadata": {},
     "output_type": "execute_result"
    }
   ],
   "source": [
    "# Display the cleaned data\n",
    "print(\"\\nCleaned Data (Selected Columns, NaNs Dropped)::\")\n",
    "data_cleaned.head()"
   ]
  },
  {
   "cell_type": "code",
   "execution_count": 410,
   "id": "7cca6282-51f3-49e0-933f-df2cc3fab2f8",
   "metadata": {
    "tags": []
   },
   "outputs": [
    {
     "data": {
      "image/png": "[encoded data removed]",
      "text/plain": [
       "<Figure size 1000x600 with 1 Axes>"
      ]
     },
     "metadata": {},
     "output_type": "display_data"
    }
   ],
   "source": [
    "plt.figure(figsize=(10, 6))\n",
    "sns.histplot(data_cleaned['sale_price'], kde=True)\n",
    "plt.title('Distribution of Sale Prices')\n",
    "plt.xlabel('Sale Price')\n",
    "plt.ylabel('Frequency')\n",
    "plt.show()\n"
   ]
  },
  {
   "cell_type": "code",
   "execution_count": 411,
   "id": "5a26ea96-d70e-4f7e-ae29-9a449ddaa993",
   "metadata": {
    "tags": []
   },
   "outputs": [
    {
     "data": {
      "image/png": "[encoded data removed]",
      "text/plain": [
       "<Figure size 1200x1000 with 2 Axes>"
      ]
     },
     "metadata": {},
     "output_type": "display_data"
    }
   ],
   "source": [
    "# Remove non-numeric columns for the correlation matrix\n",
    "data_numeric = data_cleaned.select_dtypes(include=[np.number])\n",
    "\n",
    "# Now you can plot the heatmap\n",
    "plt.figure(figsize=(12, 10))\n",
    "sns.heatmap(data_numeric.corr(), annot=True, fmt=\".2f\", cmap='coolwarm')\n",
    "plt.title('Correlation Heatmap')\n",
    "plt.show()"
   ]
  },
  {
   "cell_type": "code",
   "execution_count": 412,
   "id": "53efa604-5e2a-429d-b883-f4bb6245377e",
   "metadata": {
    "tags": []
   },
   "outputs": [
    {
     "data": {
      "image/png": "[encoded data removed]",
      "text/plain": [
       "<Figure size 1000x600 with 1 Axes>"
      ]
     },
     "metadata": {},
     "output_type": "display_data"
    }
   ],
   "source": [
    "plt.figure(figsize=(10, 6))\n",
    "sns.scatterplot(x=data_cleaned['market_value'], y=data_cleaned['sale_price'])\n",
    "plt.title('Market Value vs. Sale Price')\n",
    "plt.xlabel('Market Value')\n",
    "plt.ylabel('Sale Price')\n",
    "plt.show()\n"
   ]
  },
  {
   "cell_type": "code",
   "execution_count": 417,
   "id": "45c61f77-3ec5-415a-a5cb-2c2bc96735f8",
   "metadata": {
    "tags": []
   },
   "outputs": [],
   "source": [
    "# Sample a smaller fraction of the data, for example, 10% to ensure kernel stability\n",
    "data_subset = data_cleaned.sample(frac=.10, random_state=42)\n"
   ]
  },
  {
   "cell_type": "code",
   "execution_count": 418,
   "id": "7224ea12-5716-4c96-a256-fe54e94667f5",
   "metadata": {
    "tags": []
   },
   "outputs": [
    {
     "name": "stdout",
     "output_type": "stream",
     "text": [
      "\n",
      "Sampled Data (10%):\n"
     ]
    },
    {
     "data": {
      "text/html": [
       "<div>\n",
       "<style scoped>\n",
       "    .dataframe tbody tr th:only-of-type {\n",
       "        vertical-align: middle;\n",
       "    }\n",
       "\n",
       "    .dataframe tbody tr th {\n",
       "        vertical-align: top;\n",
       "    }\n",
       "\n",
       "    .dataframe thead th {\n",
       "        text-align: right;\n",
       "    }\n",
       "</style>\n",
       "<table border=\"1\" class=\"dataframe\">\n",
       "  <thead>\n",
       "    <tr style=\"text-align: right;\">\n",
       "      <th></th>\n",
       "      <th>objectid</th>\n",
       "      <th>assessment_date</th>\n",
       "      <th>basements</th>\n",
       "      <th>beginning_point</th>\n",
       "      <th>building_code_description</th>\n",
       "      <th>category_code_description</th>\n",
       "      <th>garage_spaces</th>\n",
       "      <th>location</th>\n",
       "      <th>market_value</th>\n",
       "      <th>number_of_bathrooms</th>\n",
       "      <th>number_of_bedrooms</th>\n",
       "      <th>number_of_rooms</th>\n",
       "      <th>number_stories</th>\n",
       "      <th>sale_price</th>\n",
       "      <th>state_code</th>\n",
       "      <th>street_name</th>\n",
       "      <th>year_built</th>\n",
       "      <th>zip_code</th>\n",
       "    </tr>\n",
       "  </thead>\n",
       "  <tbody>\n",
       "    <tr>\n",
       "      <th>156851</th>\n",
       "      <td>433305317</td>\n",
       "      <td>2022-05-24 12:13:13-04:00</td>\n",
       "      <td>C</td>\n",
       "      <td>371' S DICKINSON ST</td>\n",
       "      <td>ROW 2 STY MASONRY</td>\n",
       "      <td>SINGLE FAMILY</td>\n",
       "      <td>0.0</td>\n",
       "      <td>1552 S TAYLOR ST</td>\n",
       "      <td>107000.0</td>\n",
       "      <td>1.0</td>\n",
       "      <td>3.0</td>\n",
       "      <td>6.0</td>\n",
       "      <td>2.0</td>\n",
       "      <td>100075.0</td>\n",
       "      <td>NJ</td>\n",
       "      <td>TAYLOR</td>\n",
       "      <td>1920.0</td>\n",
       "      <td>19146.0</td>\n",
       "    </tr>\n",
       "    <tr>\n",
       "      <th>11395</th>\n",
       "      <td>433154844</td>\n",
       "      <td>2022-05-24 12:13:13-04:00</td>\n",
       "      <td>C</td>\n",
       "      <td>158' S MORRIS ST</td>\n",
       "      <td>ROW 2 STY MASONRY</td>\n",
       "      <td>SINGLE FAMILY</td>\n",
       "      <td>0.0</td>\n",
       "      <td>1722 S MOLE ST</td>\n",
       "      <td>133600.0</td>\n",
       "      <td>1.0</td>\n",
       "      <td>3.0</td>\n",
       "      <td>6.0</td>\n",
       "      <td>2.0</td>\n",
       "      <td>85000.0</td>\n",
       "      <td>PA</td>\n",
       "      <td>MOLE</td>\n",
       "      <td>1920.0</td>\n",
       "      <td>19145.0</td>\n",
       "    </tr>\n",
       "    <tr>\n",
       "      <th>287258</th>\n",
       "      <td>433422042</td>\n",
       "      <td>2022-05-24 12:13:13-04:00</td>\n",
       "      <td>C</td>\n",
       "      <td>270' S GREENWAY AVE</td>\n",
       "      <td>ROW 2 STY MASONRY</td>\n",
       "      <td>SINGLE FAMILY</td>\n",
       "      <td>0.0</td>\n",
       "      <td>2137 S SIMPSON ST</td>\n",
       "      <td>52300.0</td>\n",
       "      <td>1.0</td>\n",
       "      <td>3.0</td>\n",
       "      <td>6.0</td>\n",
       "      <td>2.0</td>\n",
       "      <td>25000.0</td>\n",
       "      <td>PA</td>\n",
       "      <td>SIMPSON</td>\n",
       "      <td>1920.0</td>\n",
       "      <td>19142.0</td>\n",
       "    </tr>\n",
       "    <tr>\n",
       "      <th>132820</th>\n",
       "      <td>433278824</td>\n",
       "      <td>2022-05-24 12:13:13-04:00</td>\n",
       "      <td>C</td>\n",
       "      <td>82'11 5/8\" W 3RD ST</td>\n",
       "      <td>ROW 2 STY MASONRY</td>\n",
       "      <td>SINGLE FAMILY</td>\n",
       "      <td>0.0</td>\n",
       "      <td>310 MCKEAN ST</td>\n",
       "      <td>169200.0</td>\n",
       "      <td>1.0</td>\n",
       "      <td>3.0</td>\n",
       "      <td>6.0</td>\n",
       "      <td>2.0</td>\n",
       "      <td>1.0</td>\n",
       "      <td>PA</td>\n",
       "      <td>MC KEAN</td>\n",
       "      <td>1905.0</td>\n",
       "      <td>19148.0</td>\n",
       "    </tr>\n",
       "    <tr>\n",
       "      <th>79896</th>\n",
       "      <td>433224413</td>\n",
       "      <td>2022-12-05 09:18:12-05:00</td>\n",
       "      <td>0</td>\n",
       "      <td>87'10 5/8\" E SEDGWICK</td>\n",
       "      <td>ROW 2 STY FRAME</td>\n",
       "      <td>SINGLE FAMILY</td>\n",
       "      <td>0.0</td>\n",
       "      <td>6937 SPRAGUE ST</td>\n",
       "      <td>273900.0</td>\n",
       "      <td>1.0</td>\n",
       "      <td>3.0</td>\n",
       "      <td>6.0</td>\n",
       "      <td>2.0</td>\n",
       "      <td>254000.0</td>\n",
       "      <td>PA</td>\n",
       "      <td>SPRAGUE</td>\n",
       "      <td>1987.0</td>\n",
       "      <td>19119.0</td>\n",
       "    </tr>\n",
       "  </tbody>\n",
       "</table>\n",
       "</div>"
      ],
      "text/plain": [
       "         objectid            assessment_date basements        beginning_point  \\\n",
       "156851  433305317  2022-05-24 12:13:13-04:00         C    371' S DICKINSON ST   \n",
       "11395   433154844  2022-05-24 12:13:13-04:00         C       158' S MORRIS ST   \n",
       "287258  433422042  2022-05-24 12:13:13-04:00         C    270' S GREENWAY AVE   \n",
       "132820  433278824  2022-05-24 12:13:13-04:00         C    82'11 5/8\" W 3RD ST   \n",
       "79896   433224413  2022-12-05 09:18:12-05:00         0  87'10 5/8\" E SEDGWICK   \n",
       "\n",
       "       building_code_description category_code_description  garage_spaces  \\\n",
       "156851         ROW 2 STY MASONRY             SINGLE FAMILY            0.0   \n",
       "11395          ROW 2 STY MASONRY             SINGLE FAMILY            0.0   \n",
       "287258         ROW 2 STY MASONRY             SINGLE FAMILY            0.0   \n",
       "132820         ROW 2 STY MASONRY             SINGLE FAMILY            0.0   \n",
       "79896            ROW 2 STY FRAME             SINGLE FAMILY            0.0   \n",
       "\n",
       "                 location  market_value  number_of_bathrooms  \\\n",
       "156851   1552 S TAYLOR ST      107000.0                  1.0   \n",
       "11395      1722 S MOLE ST      133600.0                  1.0   \n",
       "287258  2137 S SIMPSON ST       52300.0                  1.0   \n",
       "132820      310 MCKEAN ST      169200.0                  1.0   \n",
       "79896     6937 SPRAGUE ST      273900.0                  1.0   \n",
       "\n",
       "        number_of_bedrooms  number_of_rooms  number_stories  sale_price  \\\n",
       "156851                 3.0              6.0             2.0    100075.0   \n",
       "11395                  3.0              6.0             2.0     85000.0   \n",
       "287258                 3.0              6.0             2.0     25000.0   \n",
       "132820                 3.0              6.0             2.0         1.0   \n",
       "79896                  3.0              6.0             2.0    254000.0   \n",
       "\n",
       "       state_code street_name  year_built  zip_code  \n",
       "156851       NJ        TAYLOR      1920.0   19146.0  \n",
       "11395        PA          MOLE      1920.0   19145.0  \n",
       "287258       PA       SIMPSON      1920.0   19142.0  \n",
       "132820       PA       MC KEAN      1905.0   19148.0  \n",
       "79896        PA       SPRAGUE      1987.0   19119.0  "
      ]
     },
     "execution_count": 418,
     "metadata": {},
     "output_type": "execute_result"
    }
   ],
   "source": [
    "# Display the sampled data\n",
    "print(\"\\nSampled Data (10%):\")\n",
    "data_subset.head()\n"
   ]
  },
  {
   "cell_type": "code",
   "execution_count": 419,
   "id": "3b78af25-6128-4f64-88c7-31c16dec5496",
   "metadata": {},
   "outputs": [],
   "source": [
    "# List of categorical columns to encode\n",
    "categorical_cols = ['basements', 'building_code_description', 'category_code_description', 'location', 'state_code', 'street_name']"
   ]
  },
  {
   "cell_type": "code",
   "execution_count": 420,
   "id": "5b814d36-ded5-4636-bf85-1074210c3851",
   "metadata": {},
   "outputs": [],
   "source": [
    "# Perform one-hot encoding on the subset\n",
    "data_encoded_subset = pd.get_dummies(data_subset, columns=categorical_cols)"
   ]
  },
  {
   "cell_type": "code",
   "execution_count": 421,
   "id": "e0c59798-4890-44e7-8967-3cd212f1cead",
   "metadata": {},
   "outputs": [
    {
     "name": "stdout",
     "output_type": "stream",
     "text": [
      "\n",
      "Encoded Subset:\n"
     ]
    },
    {
     "data": {
      "text/html": [
       "<div>\n",
       "<style scoped>\n",
       "    .dataframe tbody tr th:only-of-type {\n",
       "        vertical-align: middle;\n",
       "    }\n",
       "\n",
       "    .dataframe tbody tr th {\n",
       "        vertical-align: top;\n",
       "    }\n",
       "\n",
       "    .dataframe thead th {\n",
       "        text-align: right;\n",
       "    }\n",
       "</style>\n",
       "<table border=\"1\" class=\"dataframe\">\n",
       "  <thead>\n",
       "    <tr style=\"text-align: right;\">\n",
       "      <th></th>\n",
       "      <th>objectid</th>\n",
       "      <th>assessment_date</th>\n",
       "      <th>beginning_point</th>\n",
       "      <th>garage_spaces</th>\n",
       "      <th>market_value</th>\n",
       "      <th>number_of_bathrooms</th>\n",
       "      <th>number_of_bedrooms</th>\n",
       "      <th>number_of_rooms</th>\n",
       "      <th>number_stories</th>\n",
       "      <th>sale_price</th>\n",
       "      <th>...</th>\n",
       "      <th>street_name_WINSTON</th>\n",
       "      <th>street_name_WINTON</th>\n",
       "      <th>street_name_WISSAHICKON</th>\n",
       "      <th>street_name_WISTER</th>\n",
       "      <th>street_name_WOODALE</th>\n",
       "      <th>street_name_WOODBROOK</th>\n",
       "      <th>street_name_WOODLAND</th>\n",
       "      <th>street_name_WOODSTOCK</th>\n",
       "      <th>street_name_WOOLSTON</th>\n",
       "      <th>street_name_YOCUM</th>\n",
       "    </tr>\n",
       "  </thead>\n",
       "  <tbody>\n",
       "    <tr>\n",
       "      <th>156851</th>\n",
       "      <td>433305317</td>\n",
       "      <td>2022-05-24 12:13:13-04:00</td>\n",
       "      <td>371' S DICKINSON ST</td>\n",
       "      <td>0.0</td>\n",
       "      <td>107000.0</td>\n",
       "      <td>1.0</td>\n",
       "      <td>3.0</td>\n",
       "      <td>6.0</td>\n",
       "      <td>2.0</td>\n",
       "      <td>100075.0</td>\n",
       "      <td>...</td>\n",
       "      <td>False</td>\n",
       "      <td>False</td>\n",
       "      <td>False</td>\n",
       "      <td>False</td>\n",
       "      <td>False</td>\n",
       "      <td>False</td>\n",
       "      <td>False</td>\n",
       "      <td>False</td>\n",
       "      <td>False</td>\n",
       "      <td>False</td>\n",
       "    </tr>\n",
       "    <tr>\n",
       "      <th>11395</th>\n",
       "      <td>433154844</td>\n",
       "      <td>2022-05-24 12:13:13-04:00</td>\n",
       "      <td>158' S MORRIS ST</td>\n",
       "      <td>0.0</td>\n",
       "      <td>133600.0</td>\n",
       "      <td>1.0</td>\n",
       "      <td>3.0</td>\n",
       "      <td>6.0</td>\n",
       "      <td>2.0</td>\n",
       "      <td>85000.0</td>\n",
       "      <td>...</td>\n",
       "      <td>False</td>\n",
       "      <td>False</td>\n",
       "      <td>False</td>\n",
       "      <td>False</td>\n",
       "      <td>False</td>\n",
       "      <td>False</td>\n",
       "      <td>False</td>\n",
       "      <td>False</td>\n",
       "      <td>False</td>\n",
       "      <td>False</td>\n",
       "    </tr>\n",
       "    <tr>\n",
       "      <th>287258</th>\n",
       "      <td>433422042</td>\n",
       "      <td>2022-05-24 12:13:13-04:00</td>\n",
       "      <td>270' S GREENWAY AVE</td>\n",
       "      <td>0.0</td>\n",
       "      <td>52300.0</td>\n",
       "      <td>1.0</td>\n",
       "      <td>3.0</td>\n",
       "      <td>6.0</td>\n",
       "      <td>2.0</td>\n",
       "      <td>25000.0</td>\n",
       "      <td>...</td>\n",
       "      <td>False</td>\n",
       "      <td>False</td>\n",
       "      <td>False</td>\n",
       "      <td>False</td>\n",
       "      <td>False</td>\n",
       "      <td>False</td>\n",
       "      <td>False</td>\n",
       "      <td>False</td>\n",
       "      <td>False</td>\n",
       "      <td>False</td>\n",
       "    </tr>\n",
       "    <tr>\n",
       "      <th>132820</th>\n",
       "      <td>433278824</td>\n",
       "      <td>2022-05-24 12:13:13-04:00</td>\n",
       "      <td>82'11 5/8\" W 3RD ST</td>\n",
       "      <td>0.0</td>\n",
       "      <td>169200.0</td>\n",
       "      <td>1.0</td>\n",
       "      <td>3.0</td>\n",
       "      <td>6.0</td>\n",
       "      <td>2.0</td>\n",
       "      <td>1.0</td>\n",
       "      <td>...</td>\n",
       "      <td>False</td>\n",
       "      <td>False</td>\n",
       "      <td>False</td>\n",
       "      <td>False</td>\n",
       "      <td>False</td>\n",
       "      <td>False</td>\n",
       "      <td>False</td>\n",
       "      <td>False</td>\n",
       "      <td>False</td>\n",
       "      <td>False</td>\n",
       "    </tr>\n",
       "    <tr>\n",
       "      <th>79896</th>\n",
       "      <td>433224413</td>\n",
       "      <td>2022-12-05 09:18:12-05:00</td>\n",
       "      <td>87'10 5/8\" E SEDGWICK</td>\n",
       "      <td>0.0</td>\n",
       "      <td>273900.0</td>\n",
       "      <td>1.0</td>\n",
       "      <td>3.0</td>\n",
       "      <td>6.0</td>\n",
       "      <td>2.0</td>\n",
       "      <td>254000.0</td>\n",
       "      <td>...</td>\n",
       "      <td>False</td>\n",
       "      <td>False</td>\n",
       "      <td>False</td>\n",
       "      <td>False</td>\n",
       "      <td>False</td>\n",
       "      <td>False</td>\n",
       "      <td>False</td>\n",
       "      <td>False</td>\n",
       "      <td>False</td>\n",
       "      <td>False</td>\n",
       "    </tr>\n",
       "  </tbody>\n",
       "</table>\n",
       "<p>5 rows × 1126 columns</p>\n",
       "</div>"
      ],
      "text/plain": [
       "         objectid            assessment_date        beginning_point  \\\n",
       "156851  433305317  2022-05-24 12:13:13-04:00    371' S DICKINSON ST   \n",
       "11395   433154844  2022-05-24 12:13:13-04:00       158' S MORRIS ST   \n",
       "287258  433422042  2022-05-24 12:13:13-04:00    270' S GREENWAY AVE   \n",
       "132820  433278824  2022-05-24 12:13:13-04:00    82'11 5/8\" W 3RD ST   \n",
       "79896   433224413  2022-12-05 09:18:12-05:00  87'10 5/8\" E SEDGWICK   \n",
       "\n",
       "        garage_spaces  market_value  number_of_bathrooms  number_of_bedrooms  \\\n",
       "156851            0.0      107000.0                  1.0                 3.0   \n",
       "11395             0.0      133600.0                  1.0                 3.0   \n",
       "287258            0.0       52300.0                  1.0                 3.0   \n",
       "132820            0.0      169200.0                  1.0                 3.0   \n",
       "79896             0.0      273900.0                  1.0                 3.0   \n",
       "\n",
       "        number_of_rooms  number_stories  sale_price  ...  street_name_WINSTON  \\\n",
       "156851              6.0             2.0    100075.0  ...                False   \n",
       "11395               6.0             2.0     85000.0  ...                False   \n",
       "287258              6.0             2.0     25000.0  ...                False   \n",
       "132820              6.0             2.0         1.0  ...                False   \n",
       "79896               6.0             2.0    254000.0  ...                False   \n",
       "\n",
       "        street_name_WINTON  street_name_WISSAHICKON  street_name_WISTER  \\\n",
       "156851               False                    False               False   \n",
       "11395                False                    False               False   \n",
       "287258               False                    False               False   \n",
       "132820               False                    False               False   \n",
       "79896                False                    False               False   \n",
       "\n",
       "        street_name_WOODALE  street_name_WOODBROOK  street_name_WOODLAND  \\\n",
       "156851                False                  False                 False   \n",
       "11395                 False                  False                 False   \n",
       "287258                False                  False                 False   \n",
       "132820                False                  False                 False   \n",
       "79896                 False                  False                 False   \n",
       "\n",
       "        street_name_WOODSTOCK  street_name_WOOLSTON  street_name_YOCUM  \n",
       "156851                  False                 False              False  \n",
       "11395                   False                 False              False  \n",
       "287258                  False                 False              False  \n",
       "132820                  False                 False              False  \n",
       "79896                   False                 False              False  \n",
       "\n",
       "[5 rows x 1126 columns]"
      ]
     },
     "execution_count": 421,
     "metadata": {},
     "output_type": "execute_result"
    }
   ],
   "source": [
    "# Display the first few rows of the encoded subset to verify\n",
    "print(\"\\nEncoded Subset:\")\n",
    "data_encoded_subset.head()"
   ]
  },
  {
   "cell_type": "code",
   "execution_count": 422,
   "id": "8645486a-3de5-4d30-9554-480023531f3d",
   "metadata": {},
   "outputs": [],
   "source": [
    "# Calculate Z-scores for numeric columns\n",
    "numeric_cols = data_subset.select_dtypes(include=[np.number]).columns\n",
    "z_scores = np.abs(stats.zscore(data_subset[numeric_cols]))\n"
   ]
  },
  {
   "cell_type": "code",
   "execution_count": 423,
   "id": "74b5a38a-8dfc-4eee-87fb-0f535290518c",
   "metadata": {},
   "outputs": [],
   "source": [
    "# Set a threshold (commonly 3) to identify and remove outliers\n",
    "threshold = 3\n",
    "data_no_outliers = data_subset[(z_scores < threshold).all(axis=1)]"
   ]
  },
  {
   "cell_type": "code",
   "execution_count": 424,
   "id": "7f0899e2-9cd5-4c9d-8759-b97a27cc06f5",
   "metadata": {
    "tags": []
   },
   "outputs": [
    {
     "name": "stdout",
     "output_type": "stream",
     "text": [
      "\n",
      "Data after removing outliers:\n"
     ]
    },
    {
     "data": {
      "text/html": [
       "<div>\n",
       "<style scoped>\n",
       "    .dataframe tbody tr th:only-of-type {\n",
       "        vertical-align: middle;\n",
       "    }\n",
       "\n",
       "    .dataframe tbody tr th {\n",
       "        vertical-align: top;\n",
       "    }\n",
       "\n",
       "    .dataframe thead th {\n",
       "        text-align: right;\n",
       "    }\n",
       "</style>\n",
       "<table border=\"1\" class=\"dataframe\">\n",
       "  <thead>\n",
       "    <tr style=\"text-align: right;\">\n",
       "      <th></th>\n",
       "      <th>objectid</th>\n",
       "      <th>assessment_date</th>\n",
       "      <th>basements</th>\n",
       "      <th>beginning_point</th>\n",
       "      <th>building_code_description</th>\n",
       "      <th>category_code_description</th>\n",
       "      <th>garage_spaces</th>\n",
       "      <th>location</th>\n",
       "      <th>market_value</th>\n",
       "      <th>number_of_bathrooms</th>\n",
       "      <th>number_of_bedrooms</th>\n",
       "      <th>number_of_rooms</th>\n",
       "      <th>number_stories</th>\n",
       "      <th>sale_price</th>\n",
       "      <th>state_code</th>\n",
       "      <th>street_name</th>\n",
       "      <th>year_built</th>\n",
       "      <th>zip_code</th>\n",
       "    </tr>\n",
       "  </thead>\n",
       "  <tbody>\n",
       "    <tr>\n",
       "      <th>156851</th>\n",
       "      <td>433305317</td>\n",
       "      <td>2022-05-24 12:13:13-04:00</td>\n",
       "      <td>C</td>\n",
       "      <td>371' S DICKINSON ST</td>\n",
       "      <td>ROW 2 STY MASONRY</td>\n",
       "      <td>SINGLE FAMILY</td>\n",
       "      <td>0.0</td>\n",
       "      <td>1552 S TAYLOR ST</td>\n",
       "      <td>107000.0</td>\n",
       "      <td>1.0</td>\n",
       "      <td>3.0</td>\n",
       "      <td>6.0</td>\n",
       "      <td>2.0</td>\n",
       "      <td>100075.0</td>\n",
       "      <td>NJ</td>\n",
       "      <td>TAYLOR</td>\n",
       "      <td>1920.0</td>\n",
       "      <td>19146.0</td>\n",
       "    </tr>\n",
       "    <tr>\n",
       "      <th>11395</th>\n",
       "      <td>433154844</td>\n",
       "      <td>2022-05-24 12:13:13-04:00</td>\n",
       "      <td>C</td>\n",
       "      <td>158' S MORRIS ST</td>\n",
       "      <td>ROW 2 STY MASONRY</td>\n",
       "      <td>SINGLE FAMILY</td>\n",
       "      <td>0.0</td>\n",
       "      <td>1722 S MOLE ST</td>\n",
       "      <td>133600.0</td>\n",
       "      <td>1.0</td>\n",
       "      <td>3.0</td>\n",
       "      <td>6.0</td>\n",
       "      <td>2.0</td>\n",
       "      <td>85000.0</td>\n",
       "      <td>PA</td>\n",
       "      <td>MOLE</td>\n",
       "      <td>1920.0</td>\n",
       "      <td>19145.0</td>\n",
       "    </tr>\n",
       "    <tr>\n",
       "      <th>287258</th>\n",
       "      <td>433422042</td>\n",
       "      <td>2022-05-24 12:13:13-04:00</td>\n",
       "      <td>C</td>\n",
       "      <td>270' S GREENWAY AVE</td>\n",
       "      <td>ROW 2 STY MASONRY</td>\n",
       "      <td>SINGLE FAMILY</td>\n",
       "      <td>0.0</td>\n",
       "      <td>2137 S SIMPSON ST</td>\n",
       "      <td>52300.0</td>\n",
       "      <td>1.0</td>\n",
       "      <td>3.0</td>\n",
       "      <td>6.0</td>\n",
       "      <td>2.0</td>\n",
       "      <td>25000.0</td>\n",
       "      <td>PA</td>\n",
       "      <td>SIMPSON</td>\n",
       "      <td>1920.0</td>\n",
       "      <td>19142.0</td>\n",
       "    </tr>\n",
       "    <tr>\n",
       "      <th>132820</th>\n",
       "      <td>433278824</td>\n",
       "      <td>2022-05-24 12:13:13-04:00</td>\n",
       "      <td>C</td>\n",
       "      <td>82'11 5/8\" W 3RD ST</td>\n",
       "      <td>ROW 2 STY MASONRY</td>\n",
       "      <td>SINGLE FAMILY</td>\n",
       "      <td>0.0</td>\n",
       "      <td>310 MCKEAN ST</td>\n",
       "      <td>169200.0</td>\n",
       "      <td>1.0</td>\n",
       "      <td>3.0</td>\n",
       "      <td>6.0</td>\n",
       "      <td>2.0</td>\n",
       "      <td>1.0</td>\n",
       "      <td>PA</td>\n",
       "      <td>MC KEAN</td>\n",
       "      <td>1905.0</td>\n",
       "      <td>19148.0</td>\n",
       "    </tr>\n",
       "    <tr>\n",
       "      <th>79896</th>\n",
       "      <td>433224413</td>\n",
       "      <td>2022-12-05 09:18:12-05:00</td>\n",
       "      <td>0</td>\n",
       "      <td>87'10 5/8\" E SEDGWICK</td>\n",
       "      <td>ROW 2 STY FRAME</td>\n",
       "      <td>SINGLE FAMILY</td>\n",
       "      <td>0.0</td>\n",
       "      <td>6937 SPRAGUE ST</td>\n",
       "      <td>273900.0</td>\n",
       "      <td>1.0</td>\n",
       "      <td>3.0</td>\n",
       "      <td>6.0</td>\n",
       "      <td>2.0</td>\n",
       "      <td>254000.0</td>\n",
       "      <td>PA</td>\n",
       "      <td>SPRAGUE</td>\n",
       "      <td>1987.0</td>\n",
       "      <td>19119.0</td>\n",
       "    </tr>\n",
       "  </tbody>\n",
       "</table>\n",
       "</div>"
      ],
      "text/plain": [
       "         objectid            assessment_date basements        beginning_point  \\\n",
       "156851  433305317  2022-05-24 12:13:13-04:00         C    371' S DICKINSON ST   \n",
       "11395   433154844  2022-05-24 12:13:13-04:00         C       158' S MORRIS ST   \n",
       "287258  433422042  2022-05-24 12:13:13-04:00         C    270' S GREENWAY AVE   \n",
       "132820  433278824  2022-05-24 12:13:13-04:00         C    82'11 5/8\" W 3RD ST   \n",
       "79896   433224413  2022-12-05 09:18:12-05:00         0  87'10 5/8\" E SEDGWICK   \n",
       "\n",
       "       building_code_description category_code_description  garage_spaces  \\\n",
       "156851         ROW 2 STY MASONRY             SINGLE FAMILY            0.0   \n",
       "11395          ROW 2 STY MASONRY             SINGLE FAMILY            0.0   \n",
       "287258         ROW 2 STY MASONRY             SINGLE FAMILY            0.0   \n",
       "132820         ROW 2 STY MASONRY             SINGLE FAMILY            0.0   \n",
       "79896            ROW 2 STY FRAME             SINGLE FAMILY            0.0   \n",
       "\n",
       "                 location  market_value  number_of_bathrooms  \\\n",
       "156851   1552 S TAYLOR ST      107000.0                  1.0   \n",
       "11395      1722 S MOLE ST      133600.0                  1.0   \n",
       "287258  2137 S SIMPSON ST       52300.0                  1.0   \n",
       "132820      310 MCKEAN ST      169200.0                  1.0   \n",
       "79896     6937 SPRAGUE ST      273900.0                  1.0   \n",
       "\n",
       "        number_of_bedrooms  number_of_rooms  number_stories  sale_price  \\\n",
       "156851                 3.0              6.0             2.0    100075.0   \n",
       "11395                  3.0              6.0             2.0     85000.0   \n",
       "287258                 3.0              6.0             2.0     25000.0   \n",
       "132820                 3.0              6.0             2.0         1.0   \n",
       "79896                  3.0              6.0             2.0    254000.0   \n",
       "\n",
       "       state_code street_name  year_built  zip_code  \n",
       "156851       NJ        TAYLOR      1920.0   19146.0  \n",
       "11395        PA          MOLE      1920.0   19145.0  \n",
       "287258       PA       SIMPSON      1920.0   19142.0  \n",
       "132820       PA       MC KEAN      1905.0   19148.0  \n",
       "79896        PA       SPRAGUE      1987.0   19119.0  "
      ]
     },
     "execution_count": 424,
     "metadata": {},
     "output_type": "execute_result"
    }
   ],
   "source": [
    "print(\"\\nData after removing outliers:\")\n",
    "data_no_outliers.head()"
   ]
  },
  {
   "cell_type": "code",
   "execution_count": 455,
   "id": "388977d6-2e8a-4ccf-8743-90a675c2d143",
   "metadata": {},
   "outputs": [],
   "source": [
    "# Create a copy of the DataFrame slice to avoid SettingWithCopyWarning\n",
    "data_no_outliers = data_subset[(z_scores < threshold).all(axis=1)].copy()"
   ]
  },
  {
   "cell_type": "code",
   "execution_count": 460,
   "id": "dc24af7f-48c8-491b-b0c0-780be87d94f1",
   "metadata": {
    "tags": []
   },
   "outputs": [],
   "source": [
    "# Drop rows where 'assessment_date' is NaT after conversion\n",
    "data_no_outliers = data_no_outliers.dropna(subset=['assessment_date'])"
   ]
  },
  {
   "cell_type": "code",
   "execution_count": 459,
   "id": "a8f52c5f-a100-48a0-a3c8-95e62b359463",
   "metadata": {
    "tags": []
   },
   "outputs": [],
   "source": [
    "# Attempt to convert 'assessment_date' to datetime format and coerce errors to NaT\n",
    "data_no_outliers['assessment_date'] = pd.to_datetime(data_no_outliers['assessment_date'], format='%Y-%m-%d %H:%M:%S%z', errors='coerce')"
   ]
  },
  {
   "cell_type": "code",
   "execution_count": 462,
   "id": "5a3c5c6a-8fb3-427d-a45b-b2c9541daf80",
   "metadata": {
    "tags": []
   },
   "outputs": [],
   "source": [
    "# Now, extract the year assuming the conversion was successful\n",
    "data_no_outliers['assessment_year'] = data_no_outliers['assessment_date'].dt.year"
   ]
  },
  {
   "cell_type": "code",
   "execution_count": 463,
   "id": "240b0c97-788c-4065-a70a-835a1e4dab38",
   "metadata": {},
   "outputs": [
    {
     "name": "stdout",
     "output_type": "stream",
     "text": [
      "\n",
      "Final Preprocessed Data:\n"
     ]
    },
    {
     "data": {
      "text/html": [
       "<div>\n",
       "<style scoped>\n",
       "    .dataframe tbody tr th:only-of-type {\n",
       "        vertical-align: middle;\n",
       "    }\n",
       "\n",
       "    .dataframe tbody tr th {\n",
       "        vertical-align: top;\n",
       "    }\n",
       "\n",
       "    .dataframe thead th {\n",
       "        text-align: right;\n",
       "    }\n",
       "</style>\n",
       "<table border=\"1\" class=\"dataframe\">\n",
       "  <thead>\n",
       "    <tr style=\"text-align: right;\">\n",
       "      <th></th>\n",
       "      <th>objectid</th>\n",
       "      <th>garage_spaces</th>\n",
       "      <th>market_value</th>\n",
       "      <th>number_of_bathrooms</th>\n",
       "      <th>number_of_bedrooms</th>\n",
       "      <th>number_of_rooms</th>\n",
       "      <th>number_stories</th>\n",
       "      <th>sale_price</th>\n",
       "      <th>year_built</th>\n",
       "      <th>zip_code</th>\n",
       "      <th>house_age</th>\n",
       "    </tr>\n",
       "  </thead>\n",
       "  <tbody>\n",
       "    <tr>\n",
       "      <th>156851</th>\n",
       "      <td>433305317</td>\n",
       "      <td>0.0</td>\n",
       "      <td>107000.0</td>\n",
       "      <td>1.0</td>\n",
       "      <td>3.0</td>\n",
       "      <td>6.0</td>\n",
       "      <td>2.0</td>\n",
       "      <td>100075.0</td>\n",
       "      <td>1920.0</td>\n",
       "      <td>19146.0</td>\n",
       "      <td>102.0</td>\n",
       "    </tr>\n",
       "    <tr>\n",
       "      <th>11395</th>\n",
       "      <td>433154844</td>\n",
       "      <td>0.0</td>\n",
       "      <td>133600.0</td>\n",
       "      <td>1.0</td>\n",
       "      <td>3.0</td>\n",
       "      <td>6.0</td>\n",
       "      <td>2.0</td>\n",
       "      <td>85000.0</td>\n",
       "      <td>1920.0</td>\n",
       "      <td>19145.0</td>\n",
       "      <td>102.0</td>\n",
       "    </tr>\n",
       "    <tr>\n",
       "      <th>287258</th>\n",
       "      <td>433422042</td>\n",
       "      <td>0.0</td>\n",
       "      <td>52300.0</td>\n",
       "      <td>1.0</td>\n",
       "      <td>3.0</td>\n",
       "      <td>6.0</td>\n",
       "      <td>2.0</td>\n",
       "      <td>25000.0</td>\n",
       "      <td>1920.0</td>\n",
       "      <td>19142.0</td>\n",
       "      <td>102.0</td>\n",
       "    </tr>\n",
       "    <tr>\n",
       "      <th>132820</th>\n",
       "      <td>433278824</td>\n",
       "      <td>0.0</td>\n",
       "      <td>169200.0</td>\n",
       "      <td>1.0</td>\n",
       "      <td>3.0</td>\n",
       "      <td>6.0</td>\n",
       "      <td>2.0</td>\n",
       "      <td>1.0</td>\n",
       "      <td>1905.0</td>\n",
       "      <td>19148.0</td>\n",
       "      <td>117.0</td>\n",
       "    </tr>\n",
       "    <tr>\n",
       "      <th>79896</th>\n",
       "      <td>433224413</td>\n",
       "      <td>0.0</td>\n",
       "      <td>273900.0</td>\n",
       "      <td>1.0</td>\n",
       "      <td>3.0</td>\n",
       "      <td>6.0</td>\n",
       "      <td>2.0</td>\n",
       "      <td>254000.0</td>\n",
       "      <td>1987.0</td>\n",
       "      <td>19119.0</td>\n",
       "      <td>35.0</td>\n",
       "    </tr>\n",
       "  </tbody>\n",
       "</table>\n",
       "</div>"
      ],
      "text/plain": [
       "         objectid  garage_spaces  market_value  number_of_bathrooms  \\\n",
       "156851  433305317            0.0      107000.0                  1.0   \n",
       "11395   433154844            0.0      133600.0                  1.0   \n",
       "287258  433422042            0.0       52300.0                  1.0   \n",
       "132820  433278824            0.0      169200.0                  1.0   \n",
       "79896   433224413            0.0      273900.0                  1.0   \n",
       "\n",
       "        number_of_bedrooms  number_of_rooms  number_stories  sale_price  \\\n",
       "156851                 3.0              6.0             2.0    100075.0   \n",
       "11395                  3.0              6.0             2.0     85000.0   \n",
       "287258                 3.0              6.0             2.0     25000.0   \n",
       "132820                 3.0              6.0             2.0         1.0   \n",
       "79896                  3.0              6.0             2.0    254000.0   \n",
       "\n",
       "        year_built  zip_code  house_age  \n",
       "156851      1920.0   19146.0      102.0  \n",
       "11395       1920.0   19145.0      102.0  \n",
       "287258      1920.0   19142.0      102.0  \n",
       "132820      1905.0   19148.0      117.0  \n",
       "79896       1987.0   19119.0       35.0  "
      ]
     },
     "execution_count": 463,
     "metadata": {},
     "output_type": "execute_result"
    }
   ],
   "source": [
    "print(\"\\nFinal Preprocessed Data:\")\n",
    "final_data_preprocessed.head()"
   ]
  },
  {
   "cell_type": "code",
   "execution_count": 464,
   "id": "25ca9c95-4983-4d7a-b410-02603b957840",
   "metadata": {},
   "outputs": [],
   "source": [
    "# 1. Creating Interaction Terms\n",
    "data_no_outliers.loc[:, 'bed_bath_interaction'] = data_no_outliers.loc[:, 'number_of_bedrooms'] * data_no_outliers.loc[:, 'number_of_bathrooms']"
   ]
  },
  {
   "cell_type": "code",
   "execution_count": 465,
   "id": "c8e6554e-0e29-489a-9654-3588544a7c7c",
   "metadata": {},
   "outputs": [],
   "source": [
    "# 2. Transforming Variables\n",
    "data_no_outliers.loc[:, 'log_market_value'] = np.log(data_no_outliers.loc[:, 'market_value'] + 1) # Adding 1 to avoid log(0)\n",
    "data_no_outliers.loc[:, 'log_sale_price'] = np.log(data_no_outliers.loc[:, 'sale_price'] + 1)"
   ]
  },
  {
   "cell_type": "code",
   "execution_count": 466,
   "id": "5180421a-6d0c-4902-8327-7a7476261c00",
   "metadata": {},
   "outputs": [],
   "source": [
    "# Attempt to convert 'assessment_date' to datetime format and coerce errors to NaT\n",
    "data_no_outliers['assessment_date'] = pd.to_datetime(data_no_outliers['assessment_date'], errors='coerce')"
   ]
  },
  {
   "cell_type": "code",
   "execution_count": 467,
   "id": "95245ea8-c058-40c2-96d4-b4280968fc50",
   "metadata": {
    "tags": []
   },
   "outputs": [
    {
     "name": "stdout",
     "output_type": "stream",
     "text": [
      "datetime64[ns, UTC-04:00]\n"
     ]
    }
   ],
   "source": [
    "# Check the data type to ensure it's datetime64[ns]\n",
    "print(data_no_outliers['assessment_date'].dtype)"
   ]
  },
  {
   "cell_type": "code",
   "execution_count": 468,
   "id": "0030f14d-035d-4cee-8749-eb1cf9e64108",
   "metadata": {
    "tags": []
   },
   "outputs": [
    {
     "data": {
      "text/plain": [
       "156851   2022-05-24 12:13:13-04:00\n",
       "11395    2022-05-24 12:13:13-04:00\n",
       "287258   2022-05-24 12:13:13-04:00\n",
       "132820   2022-05-24 12:13:13-04:00\n",
       "12933    2022-05-24 12:13:13-04:00\n",
       "Name: assessment_date, dtype: datetime64[ns, UTC-04:00]"
      ]
     },
     "execution_count": 468,
     "metadata": {},
     "output_type": "execute_result"
    }
   ],
   "source": [
    "# Inspect the first few rows to confirm successful conversion\n",
    "data_no_outliers['assessment_date'].head()"
   ]
  },
  {
   "cell_type": "code",
   "execution_count": 469,
   "id": "993af8b7-5150-41d9-9ace-131c78afe9c5",
   "metadata": {},
   "outputs": [
    {
     "data": {
      "text/html": [
       "<div>\n",
       "<style scoped>\n",
       "    .dataframe tbody tr th:only-of-type {\n",
       "        vertical-align: middle;\n",
       "    }\n",
       "\n",
       "    .dataframe tbody tr th {\n",
       "        vertical-align: top;\n",
       "    }\n",
       "\n",
       "    .dataframe thead th {\n",
       "        text-align: right;\n",
       "    }\n",
       "</style>\n",
       "<table border=\"1\" class=\"dataframe\">\n",
       "  <thead>\n",
       "    <tr style=\"text-align: right;\">\n",
       "      <th></th>\n",
       "      <th>objectid</th>\n",
       "      <th>assessment_date</th>\n",
       "      <th>basements</th>\n",
       "      <th>beginning_point</th>\n",
       "      <th>building_code_description</th>\n",
       "      <th>category_code_description</th>\n",
       "      <th>garage_spaces</th>\n",
       "      <th>location</th>\n",
       "      <th>market_value</th>\n",
       "      <th>number_of_bathrooms</th>\n",
       "      <th>...</th>\n",
       "      <th>number_stories</th>\n",
       "      <th>sale_price</th>\n",
       "      <th>state_code</th>\n",
       "      <th>street_name</th>\n",
       "      <th>year_built</th>\n",
       "      <th>zip_code</th>\n",
       "      <th>assessment_year</th>\n",
       "      <th>bed_bath_interaction</th>\n",
       "      <th>log_market_value</th>\n",
       "      <th>log_sale_price</th>\n",
       "    </tr>\n",
       "  </thead>\n",
       "  <tbody>\n",
       "    <tr>\n",
       "      <th>156851</th>\n",
       "      <td>433305317</td>\n",
       "      <td>2022-05-24 12:13:13-04:00</td>\n",
       "      <td>C</td>\n",
       "      <td>371' S DICKINSON ST</td>\n",
       "      <td>ROW 2 STY MASONRY</td>\n",
       "      <td>SINGLE FAMILY</td>\n",
       "      <td>0.0</td>\n",
       "      <td>1552 S TAYLOR ST</td>\n",
       "      <td>107000.0</td>\n",
       "      <td>1.0</td>\n",
       "      <td>...</td>\n",
       "      <td>2.0</td>\n",
       "      <td>100075.0</td>\n",
       "      <td>NJ</td>\n",
       "      <td>TAYLOR</td>\n",
       "      <td>1920.0</td>\n",
       "      <td>19146.0</td>\n",
       "      <td>2022</td>\n",
       "      <td>3.0</td>\n",
       "      <td>11.580593</td>\n",
       "      <td>11.513685</td>\n",
       "    </tr>\n",
       "    <tr>\n",
       "      <th>11395</th>\n",
       "      <td>433154844</td>\n",
       "      <td>2022-05-24 12:13:13-04:00</td>\n",
       "      <td>C</td>\n",
       "      <td>158' S MORRIS ST</td>\n",
       "      <td>ROW 2 STY MASONRY</td>\n",
       "      <td>SINGLE FAMILY</td>\n",
       "      <td>0.0</td>\n",
       "      <td>1722 S MOLE ST</td>\n",
       "      <td>133600.0</td>\n",
       "      <td>1.0</td>\n",
       "      <td>...</td>\n",
       "      <td>2.0</td>\n",
       "      <td>85000.0</td>\n",
       "      <td>PA</td>\n",
       "      <td>MOLE</td>\n",
       "      <td>1920.0</td>\n",
       "      <td>19145.0</td>\n",
       "      <td>2022</td>\n",
       "      <td>3.0</td>\n",
       "      <td>11.802613</td>\n",
       "      <td>11.350418</td>\n",
       "    </tr>\n",
       "    <tr>\n",
       "      <th>287258</th>\n",
       "      <td>433422042</td>\n",
       "      <td>2022-05-24 12:13:13-04:00</td>\n",
       "      <td>C</td>\n",
       "      <td>270' S GREENWAY AVE</td>\n",
       "      <td>ROW 2 STY MASONRY</td>\n",
       "      <td>SINGLE FAMILY</td>\n",
       "      <td>0.0</td>\n",
       "      <td>2137 S SIMPSON ST</td>\n",
       "      <td>52300.0</td>\n",
       "      <td>1.0</td>\n",
       "      <td>...</td>\n",
       "      <td>2.0</td>\n",
       "      <td>25000.0</td>\n",
       "      <td>PA</td>\n",
       "      <td>SIMPSON</td>\n",
       "      <td>1920.0</td>\n",
       "      <td>19142.0</td>\n",
       "      <td>2022</td>\n",
       "      <td>3.0</td>\n",
       "      <td>10.864771</td>\n",
       "      <td>10.126671</td>\n",
       "    </tr>\n",
       "    <tr>\n",
       "      <th>132820</th>\n",
       "      <td>433278824</td>\n",
       "      <td>2022-05-24 12:13:13-04:00</td>\n",
       "      <td>C</td>\n",
       "      <td>82'11 5/8\" W 3RD ST</td>\n",
       "      <td>ROW 2 STY MASONRY</td>\n",
       "      <td>SINGLE FAMILY</td>\n",
       "      <td>0.0</td>\n",
       "      <td>310 MCKEAN ST</td>\n",
       "      <td>169200.0</td>\n",
       "      <td>1.0</td>\n",
       "      <td>...</td>\n",
       "      <td>2.0</td>\n",
       "      <td>1.0</td>\n",
       "      <td>PA</td>\n",
       "      <td>MC KEAN</td>\n",
       "      <td>1905.0</td>\n",
       "      <td>19148.0</td>\n",
       "      <td>2022</td>\n",
       "      <td>3.0</td>\n",
       "      <td>12.038843</td>\n",
       "      <td>0.693147</td>\n",
       "    </tr>\n",
       "    <tr>\n",
       "      <th>12933</th>\n",
       "      <td>433156548</td>\n",
       "      <td>2022-05-24 12:13:13-04:00</td>\n",
       "      <td>A</td>\n",
       "      <td>140'4 3/4\" W OF 13 ST</td>\n",
       "      <td>ROW 2 STY MASONRY</td>\n",
       "      <td>SINGLE FAMILY</td>\n",
       "      <td>0.0</td>\n",
       "      <td>1319 SNYDER AVE</td>\n",
       "      <td>198000.0</td>\n",
       "      <td>2.0</td>\n",
       "      <td>...</td>\n",
       "      <td>2.0</td>\n",
       "      <td>400000.0</td>\n",
       "      <td>PA</td>\n",
       "      <td>SNYDER</td>\n",
       "      <td>1925.0</td>\n",
       "      <td>19148.0</td>\n",
       "      <td>2022</td>\n",
       "      <td>6.0</td>\n",
       "      <td>12.196027</td>\n",
       "      <td>12.899222</td>\n",
       "    </tr>\n",
       "  </tbody>\n",
       "</table>\n",
       "<p>5 rows × 22 columns</p>\n",
       "</div>"
      ],
      "text/plain": [
       "         objectid           assessment_date basements        beginning_point  \\\n",
       "156851  433305317 2022-05-24 12:13:13-04:00         C    371' S DICKINSON ST   \n",
       "11395   433154844 2022-05-24 12:13:13-04:00         C       158' S MORRIS ST   \n",
       "287258  433422042 2022-05-24 12:13:13-04:00         C    270' S GREENWAY AVE   \n",
       "132820  433278824 2022-05-24 12:13:13-04:00         C    82'11 5/8\" W 3RD ST   \n",
       "12933   433156548 2022-05-24 12:13:13-04:00         A  140'4 3/4\" W OF 13 ST   \n",
       "\n",
       "       building_code_description category_code_description  garage_spaces  \\\n",
       "156851         ROW 2 STY MASONRY             SINGLE FAMILY            0.0   \n",
       "11395          ROW 2 STY MASONRY             SINGLE FAMILY            0.0   \n",
       "287258         ROW 2 STY MASONRY             SINGLE FAMILY            0.0   \n",
       "132820         ROW 2 STY MASONRY             SINGLE FAMILY            0.0   \n",
       "12933          ROW 2 STY MASONRY             SINGLE FAMILY            0.0   \n",
       "\n",
       "                 location  market_value  number_of_bathrooms  ...  \\\n",
       "156851   1552 S TAYLOR ST      107000.0                  1.0  ...   \n",
       "11395      1722 S MOLE ST      133600.0                  1.0  ...   \n",
       "287258  2137 S SIMPSON ST       52300.0                  1.0  ...   \n",
       "132820      310 MCKEAN ST      169200.0                  1.0  ...   \n",
       "12933     1319 SNYDER AVE      198000.0                  2.0  ...   \n",
       "\n",
       "        number_stories  sale_price  state_code  street_name year_built  \\\n",
       "156851             2.0    100075.0        NJ         TAYLOR     1920.0   \n",
       "11395              2.0     85000.0        PA           MOLE     1920.0   \n",
       "287258             2.0     25000.0        PA        SIMPSON     1920.0   \n",
       "132820             2.0         1.0        PA        MC KEAN     1905.0   \n",
       "12933              2.0    400000.0        PA         SNYDER     1925.0   \n",
       "\n",
       "       zip_code  assessment_year  bed_bath_interaction  log_market_value  \\\n",
       "156851  19146.0             2022                   3.0         11.580593   \n",
       "11395   19145.0             2022                   3.0         11.802613   \n",
       "287258  19142.0             2022                   3.0         10.864771   \n",
       "132820  19148.0             2022                   3.0         12.038843   \n",
       "12933   19148.0             2022                   6.0         12.196027   \n",
       "\n",
       "        log_sale_price  \n",
       "156851       11.513685  \n",
       "11395        11.350418  \n",
       "287258       10.126671  \n",
       "132820        0.693147  \n",
       "12933        12.899222  \n",
       "\n",
       "[5 rows x 22 columns]"
      ]
     },
     "execution_count": 469,
     "metadata": {},
     "output_type": "execute_result"
    }
   ],
   "source": [
    "# This will display the DataFrame in a formatted table\n",
    "data_no_outliers.head()"
   ]
  },
  {
   "cell_type": "code",
   "execution_count": 470,
   "id": "cb55bf2b-4cb8-4674-8253-01d4ca06ced5",
   "metadata": {
    "tags": []
   },
   "outputs": [],
   "source": [
    "# After ensuring all features are numeric and no NaN values are present\n",
    "# Prepare your final dataset for modeling\n",
    "final_data_preprocessed = final_data_preprocessed.select_dtypes(include=[np.number])\n",
    "final_data_preprocessed = final_data_preprocessed.dropna()\n"
   ]
  },
  {
   "cell_type": "code",
   "execution_count": 471,
   "id": "040944c8-3b77-46fa-b510-26035fcb18b8",
   "metadata": {
    "tags": []
   },
   "outputs": [],
   "source": [
    "X = final_data_preprocessed.drop('sale_price', axis=1)  # Features\n",
    "y = final_data_preprocessed['sale_price']  # Target variable\n"
   ]
  },
  {
   "cell_type": "code",
   "execution_count": 472,
   "id": "262dce69-4ec1-4557-a473-4ab9523c0cbe",
   "metadata": {
    "tags": []
   },
   "outputs": [],
   "source": [
    "# Split the data into training and testing sets\n",
    "X_train, X_test, y_train, y_test = train_test_split(X, y, test_size=0.2, random_state=42)\n"
   ]
  },
  {
   "cell_type": "code",
   "execution_count": 473,
   "id": "8e279869-ade6-48a5-a22b-3b3231089075",
   "metadata": {
    "tags": []
   },
   "outputs": [],
   "source": [
    "# Before training the model, ensure there are no non-numeric values in X_train\n",
    "if not all([np.issubdtype(dt, np.number) for dt in X_train.dtypes]):\n",
    "    raise ValueError(\"X_train contains non-numeric values. Please ensure all columns are numeric.\")\n"
   ]
  },
  {
   "cell_type": "code",
   "execution_count": 474,
   "id": "f81f3130-7c8c-4b51-b7a6-341306efc248",
   "metadata": {
    "tags": []
   },
   "outputs": [
    {
     "data": {
      "text/html": [
       "<style>#sk-container-id-11 {color: black;}#sk-container-id-11 pre{padding: 0;}#sk-container-id-11 div.sk-toggleable {background-color: white;}#sk-container-id-11 label.sk-toggleable__label {cursor: pointer;display: block;width: 100%;margin-bottom: 0;padding: 0.3em;box-sizing: border-box;text-align: center;}#sk-container-id-11 label.sk-toggleable__label-arrow:before {content: \"▸\";float: left;margin-right: 0.25em;color: #696969;}#sk-container-id-11 label.sk-toggleable__label-arrow:hover:before {color: black;}#sk-container-id-11 div.sk-estimator:hover label.sk-toggleable__label-arrow:before {color: black;}#sk-container-id-11 div.sk-toggleable__content {max-height: 0;max-width: 0;overflow: hidden;text-align: left;background-color: #f0f8ff;}#sk-container-id-11 div.sk-toggleable__content pre {margin: 0.2em;color: black;border-radius: 0.25em;background-color: #f0f8ff;}#sk-container-id-11 input.sk-toggleable__control:checked~div.sk-toggleable__content {max-height: 200px;max-width: 100%;overflow: auto;}#sk-container-id-11 input.sk-toggleable__control:checked~label.sk-toggleable__label-arrow:before {content: \"▾\";}#sk-container-id-11 div.sk-estimator input.sk-toggleable__control:checked~label.sk-toggleable__label {background-color: #d4ebff;}#sk-container-id-11 div.sk-label input.sk-toggleable__control:checked~label.sk-toggleable__label {background-color: #d4ebff;}#sk-container-id-11 input.sk-hidden--visually {border: 0;clip: rect(1px 1px 1px 1px);clip: rect(1px, 1px, 1px, 1px);height: 1px;margin: -1px;overflow: hidden;padding: 0;position: absolute;width: 1px;}#sk-container-id-11 div.sk-estimator {font-family: monospace;background-color: #f0f8ff;border: 1px dotted black;border-radius: 0.25em;box-sizing: border-box;margin-bottom: 0.5em;}#sk-container-id-11 div.sk-estimator:hover {background-color: #d4ebff;}#sk-container-id-11 div.sk-parallel-item::after {content: \"\";width: 100%;border-bottom: 1px solid gray;flex-grow: 1;}#sk-container-id-11 div.sk-label:hover label.sk-toggleable__label {background-color: #d4ebff;}#sk-container-id-11 div.sk-serial::before {content: \"\";position: absolute;border-left: 1px solid gray;box-sizing: border-box;top: 0;bottom: 0;left: 50%;z-index: 0;}#sk-container-id-11 div.sk-serial {display: flex;flex-direction: column;align-items: center;background-color: white;padding-right: 0.2em;padding-left: 0.2em;position: relative;}#sk-container-id-11 div.sk-item {position: relative;z-index: 1;}#sk-container-id-11 div.sk-parallel {display: flex;align-items: stretch;justify-content: center;background-color: white;position: relative;}#sk-container-id-11 div.sk-item::before, #sk-container-id-11 div.sk-parallel-item::before {content: \"\";position: absolute;border-left: 1px solid gray;box-sizing: border-box;top: 0;bottom: 0;left: 50%;z-index: -1;}#sk-container-id-11 div.sk-parallel-item {display: flex;flex-direction: column;z-index: 1;position: relative;background-color: white;}#sk-container-id-11 div.sk-parallel-item:first-child::after {align-self: flex-end;width: 50%;}#sk-container-id-11 div.sk-parallel-item:last-child::after {align-self: flex-start;width: 50%;}#sk-container-id-11 div.sk-parallel-item:only-child::after {width: 0;}#sk-container-id-11 div.sk-dashed-wrapped {border: 1px dashed gray;margin: 0 0.4em 0.5em 0.4em;box-sizing: border-box;padding-bottom: 0.4em;background-color: white;}#sk-container-id-11 div.sk-label label {font-family: monospace;font-weight: bold;display: inline-block;line-height: 1.2em;}#sk-container-id-11 div.sk-label-container {text-align: center;}#sk-container-id-11 div.sk-container {/* jupyter's `normalize.less` sets `[hidden] { display: none; }` but bootstrap.min.css set `[hidden] { display: none !important; }` so we also need the `!important` here to be able to override the default hidden behavior on the sphinx rendered scikit-learn.org. See: https://github.com/scikit-learn/scikit-learn/issues/21755 */display: inline-block !important;position: relative;}#sk-container-id-11 div.sk-text-repr-fallback {display: none;}</style><div id=\"sk-container-id-11\" class=\"sk-top-container\"><div class=\"sk-text-repr-fallback\"><pre>LinearRegression()</pre><b>In a Jupyter environment, please rerun this cell to show the HTML representation or trust the notebook. <br />On GitHub, the HTML representation is unable to render, please try loading this page with nbviewer.org.</b></div><div class=\"sk-container\" hidden><div class=\"sk-item\"><div class=\"sk-estimator sk-toggleable\"><input class=\"sk-toggleable__control sk-hidden--visually\" id=\"sk-estimator-id-19\" type=\"checkbox\" checked><label for=\"sk-estimator-id-19\" class=\"sk-toggleable__label sk-toggleable__label-arrow\">LinearRegression</label><div class=\"sk-toggleable__content\"><pre>LinearRegression()</pre></div></div></div></div></div>"
      ],
      "text/plain": [
       "LinearRegression()"
      ]
     },
     "execution_count": 474,
     "metadata": {},
     "output_type": "execute_result"
    }
   ],
   "source": [
    "# Initialize and train the linear regression model\n",
    "model = LinearRegression()\n",
    "model.fit(X_train, y_train)\n"
   ]
  },
  {
   "cell_type": "code",
   "execution_count": 475,
   "id": "c3a79ec6-522b-405e-b9c5-956a1a7bca97",
   "metadata": {
    "tags": []
   },
   "outputs": [],
   "source": [
    "# Predict on the testing set\n",
    "y_pred = model.predict(X_test)"
   ]
  },
  {
   "cell_type": "code",
   "execution_count": 476,
   "id": "34c73287-b8da-4c07-8237-4417f173c9a0",
   "metadata": {
    "tags": []
   },
   "outputs": [
    {
     "name": "stdout",
     "output_type": "stream",
     "text": [
      "RMSE: 153686.81100246048\n",
      "Average House Price: 222996.90476190476\n",
      "Price Range: 1224203.0\n"
     ]
    }
   ],
   "source": [
    "# Assessing RMSE Relative to House Prices\n",
    "average_price = y_test.mean()\n",
    "price_range = y_test.max() - y_test.min()\n",
    "print(f\"RMSE: {rmse}\")\n",
    "print(f\"Average House Price: {average_price}\")\n",
    "print(f\"Price Range: {price_range}\")\n"
   ]
  },
  {
   "cell_type": "code",
   "execution_count": 477,
   "id": "3fc87d3e-4607-4080-8e36-c107e0304c4d",
   "metadata": {
    "tags": []
   },
   "outputs": [
    {
     "data": {
      "image/png": "[encoded data removed]",
      "text/plain": [
       "<Figure size 1000x600 with 1 Axes>"
      ]
     },
     "metadata": {},
     "output_type": "display_data"
    }
   ],
   "source": [
    "# Check for normal distribution of errors\n",
    "residuals = y_test - y_pred\n",
    "plt.figure(figsize=(10, 6))\n",
    "sns.histplot(residuals, kde=True)\n",
    "plt.title('Distribution of Residuals')\n",
    "plt.xlabel('Residuals')\n",
    "plt.ylabel('Frequency')\n",
    "plt.show()"
   ]
  },
  {
   "cell_type": "code",
   "execution_count": 478,
   "id": "dcab3081-8a8f-4368-bcab-65d877749cf0",
   "metadata": {},
   "outputs": [
    {
     "data": {
      "image/png": "[encoded data removed]",
      "text/plain": [
       "<Figure size 1000x600 with 1 Axes>"
      ]
     },
     "metadata": {},
     "output_type": "display_data"
    }
   ],
   "source": [
    "# Scatter plot to check for homoscedasticity (constant variance)\n",
    "plt.figure(figsize=(10, 6))\n",
    "plt.scatter(y_pred, residuals)\n",
    "plt.title('Residuals vs Predicted Values')\n",
    "plt.xlabel('Predicted Values')\n",
    "plt.ylabel('Residuals')\n",
    "plt.axhline(y=0, color='red', linestyle='--')\n",
    "plt.show()"
   ]
  },
  {
   "cell_type": "code",
   "execution_count": 479,
   "id": "a5e0f43a-13ac-4ba4-ba16-16fbcd8524b6",
   "metadata": {
    "tags": []
   },
   "outputs": [],
   "source": [
    "# Initialize the RandomForestRegressor\n",
    "rf_model = RandomForestRegressor(random_state=42)"
   ]
  },
  {
   "cell_type": "code",
   "execution_count": 480,
   "id": "2d2e2701-2e98-472a-abaf-0ef5d8ab26b8",
   "metadata": {
    "tags": []
   },
   "outputs": [],
   "source": [
    "# Define a grid of hyperparameters to search over\n",
    "param_grid = {\n",
    "    'n_estimators': [100, 200],\n",
    "    'max_depth': [10, 20, None],\n",
    "    'min_samples_split': [2, 5],\n",
    "    'min_samples_leaf': [1, 2]\n",
    "}"
   ]
  },
  {
   "cell_type": "code",
   "execution_count": 481,
   "id": "57009115-a06c-4c5a-ac2b-55962c517d32",
   "metadata": {
    "tags": []
   },
   "outputs": [],
   "source": [
    "# Set up the grid search\n",
    "grid_search = GridSearchCV(estimator=rf_model, param_grid=param_grid, cv=5, scoring='neg_mean_squared_error')\n"
   ]
  },
  {
   "cell_type": "code",
   "execution_count": 482,
   "id": "c009f273-fd7f-4a92-b5a9-d4166b8b908a",
   "metadata": {
    "tags": []
   },
   "outputs": [
    {
     "data": {
      "text/html": [
       "<style>#sk-container-id-12 {color: black;}#sk-container-id-12 pre{padding: 0;}#sk-container-id-12 div.sk-toggleable {background-color: white;}#sk-container-id-12 label.sk-toggleable__label {cursor: pointer;display: block;width: 100%;margin-bottom: 0;padding: 0.3em;box-sizing: border-box;text-align: center;}#sk-container-id-12 label.sk-toggleable__label-arrow:before {content: \"▸\";float: left;margin-right: 0.25em;color: #696969;}#sk-container-id-12 label.sk-toggleable__label-arrow:hover:before {color: black;}#sk-container-id-12 div.sk-estimator:hover label.sk-toggleable__label-arrow:before {color: black;}#sk-container-id-12 div.sk-toggleable__content {max-height: 0;max-width: 0;overflow: hidden;text-align: left;background-color: #f0f8ff;}#sk-container-id-12 div.sk-toggleable__content pre {margin: 0.2em;color: black;border-radius: 0.25em;background-color: #f0f8ff;}#sk-container-id-12 input.sk-toggleable__control:checked~div.sk-toggleable__content {max-height: 200px;max-width: 100%;overflow: auto;}#sk-container-id-12 input.sk-toggleable__control:checked~label.sk-toggleable__label-arrow:before {content: \"▾\";}#sk-container-id-12 div.sk-estimator input.sk-toggleable__control:checked~label.sk-toggleable__label {background-color: #d4ebff;}#sk-container-id-12 div.sk-label input.sk-toggleable__control:checked~label.sk-toggleable__label {background-color: #d4ebff;}#sk-container-id-12 input.sk-hidden--visually {border: 0;clip: rect(1px 1px 1px 1px);clip: rect(1px, 1px, 1px, 1px);height: 1px;margin: -1px;overflow: hidden;padding: 0;position: absolute;width: 1px;}#sk-container-id-12 div.sk-estimator {font-family: monospace;background-color: #f0f8ff;border: 1px dotted black;border-radius: 0.25em;box-sizing: border-box;margin-bottom: 0.5em;}#sk-container-id-12 div.sk-estimator:hover {background-color: #d4ebff;}#sk-container-id-12 div.sk-parallel-item::after {content: \"\";width: 100%;border-bottom: 1px solid gray;flex-grow: 1;}#sk-container-id-12 div.sk-label:hover label.sk-toggleable__label {background-color: #d4ebff;}#sk-container-id-12 div.sk-serial::before {content: \"\";position: absolute;border-left: 1px solid gray;box-sizing: border-box;top: 0;bottom: 0;left: 50%;z-index: 0;}#sk-container-id-12 div.sk-serial {display: flex;flex-direction: column;align-items: center;background-color: white;padding-right: 0.2em;padding-left: 0.2em;position: relative;}#sk-container-id-12 div.sk-item {position: relative;z-index: 1;}#sk-container-id-12 div.sk-parallel {display: flex;align-items: stretch;justify-content: center;background-color: white;position: relative;}#sk-container-id-12 div.sk-item::before, #sk-container-id-12 div.sk-parallel-item::before {content: \"\";position: absolute;border-left: 1px solid gray;box-sizing: border-box;top: 0;bottom: 0;left: 50%;z-index: -1;}#sk-container-id-12 div.sk-parallel-item {display: flex;flex-direction: column;z-index: 1;position: relative;background-color: white;}#sk-container-id-12 div.sk-parallel-item:first-child::after {align-self: flex-end;width: 50%;}#sk-container-id-12 div.sk-parallel-item:last-child::after {align-self: flex-start;width: 50%;}#sk-container-id-12 div.sk-parallel-item:only-child::after {width: 0;}#sk-container-id-12 div.sk-dashed-wrapped {border: 1px dashed gray;margin: 0 0.4em 0.5em 0.4em;box-sizing: border-box;padding-bottom: 0.4em;background-color: white;}#sk-container-id-12 div.sk-label label {font-family: monospace;font-weight: bold;display: inline-block;line-height: 1.2em;}#sk-container-id-12 div.sk-label-container {text-align: center;}#sk-container-id-12 div.sk-container {/* jupyter's `normalize.less` sets `[hidden] { display: none; }` but bootstrap.min.css set `[hidden] { display: none !important; }` so we also need the `!important` here to be able to override the default hidden behavior on the sphinx rendered scikit-learn.org. See: https://github.com/scikit-learn/scikit-learn/issues/21755 */display: inline-block !important;position: relative;}#sk-container-id-12 div.sk-text-repr-fallback {display: none;}</style><div id=\"sk-container-id-12\" class=\"sk-top-container\"><div class=\"sk-text-repr-fallback\"><pre>GridSearchCV(cv=5, estimator=RandomForestRegressor(random_state=42),\n",
       "             param_grid={&#x27;max_depth&#x27;: [10, 20, None],\n",
       "                         &#x27;min_samples_leaf&#x27;: [1, 2],\n",
       "                         &#x27;min_samples_split&#x27;: [2, 5],\n",
       "                         &#x27;n_estimators&#x27;: [100, 200]},\n",
       "             scoring=&#x27;neg_mean_squared_error&#x27;)</pre><b>In a Jupyter environment, please rerun this cell to show the HTML representation or trust the notebook. <br />On GitHub, the HTML representation is unable to render, please try loading this page with nbviewer.org.</b></div><div class=\"sk-container\" hidden><div class=\"sk-item sk-dashed-wrapped\"><div class=\"sk-label-container\"><div class=\"sk-label sk-toggleable\"><input class=\"sk-toggleable__control sk-hidden--visually\" id=\"sk-estimator-id-20\" type=\"checkbox\" ><label for=\"sk-estimator-id-20\" class=\"sk-toggleable__label sk-toggleable__label-arrow\">GridSearchCV</label><div class=\"sk-toggleable__content\"><pre>GridSearchCV(cv=5, estimator=RandomForestRegressor(random_state=42),\n",
       "             param_grid={&#x27;max_depth&#x27;: [10, 20, None],\n",
       "                         &#x27;min_samples_leaf&#x27;: [1, 2],\n",
       "                         &#x27;min_samples_split&#x27;: [2, 5],\n",
       "                         &#x27;n_estimators&#x27;: [100, 200]},\n",
       "             scoring=&#x27;neg_mean_squared_error&#x27;)</pre></div></div></div><div class=\"sk-parallel\"><div class=\"sk-parallel-item\"><div class=\"sk-item\"><div class=\"sk-label-container\"><div class=\"sk-label sk-toggleable\"><input class=\"sk-toggleable__control sk-hidden--visually\" id=\"sk-estimator-id-21\" type=\"checkbox\" ><label for=\"sk-estimator-id-21\" class=\"sk-toggleable__label sk-toggleable__label-arrow\">estimator: RandomForestRegressor</label><div class=\"sk-toggleable__content\"><pre>RandomForestRegressor(random_state=42)</pre></div></div></div><div class=\"sk-serial\"><div class=\"sk-item\"><div class=\"sk-estimator sk-toggleable\"><input class=\"sk-toggleable__control sk-hidden--visually\" id=\"sk-estimator-id-22\" type=\"checkbox\" ><label for=\"sk-estimator-id-22\" class=\"sk-toggleable__label sk-toggleable__label-arrow\">RandomForestRegressor</label><div class=\"sk-toggleable__content\"><pre>RandomForestRegressor(random_state=42)</pre></div></div></div></div></div></div></div></div></div></div>"
      ],
      "text/plain": [
       "GridSearchCV(cv=5, estimator=RandomForestRegressor(random_state=42),\n",
       "             param_grid={'max_depth': [10, 20, None],\n",
       "                         'min_samples_leaf': [1, 2],\n",
       "                         'min_samples_split': [2, 5],\n",
       "                         'n_estimators': [100, 200]},\n",
       "             scoring='neg_mean_squared_error')"
      ]
     },
     "execution_count": 482,
     "metadata": {},
     "output_type": "execute_result"
    }
   ],
   "source": [
    "# Perform the grid search\n",
    "grid_search.fit(X_train, y_train)\n"
   ]
  },
  {
   "cell_type": "code",
   "execution_count": 483,
   "id": "d6094315-5013-4c6d-9416-847e639b7552",
   "metadata": {
    "tags": []
   },
   "outputs": [],
   "source": [
    "# Find the best model\n",
    "best_rf_model = grid_search.best_estimator_\n"
   ]
  },
  {
   "cell_type": "code",
   "execution_count": 484,
   "id": "207d418f-4af5-49d1-979a-5462878bf270",
   "metadata": {
    "tags": []
   },
   "outputs": [],
   "source": [
    "# Predict on the testing set\n",
    "y_pred_rf = best_rf_model.predict(X_test)"
   ]
  },
  {
   "cell_type": "code",
   "execution_count": 485,
   "id": "f351647f-49b0-4e0b-a4b7-2af156902543",
   "metadata": {
    "tags": []
   },
   "outputs": [],
   "source": [
    "# Evaluate the model\n",
    "mse_rf = mean_squared_error(y_test, y_pred_rf)\n",
    "rmse_rf = np.sqrt(mse_rf)"
   ]
  },
  {
   "cell_type": "code",
   "execution_count": 486,
   "id": "a1b88fe5-2d05-4f21-b168-36adf504facf",
   "metadata": {
    "tags": []
   },
   "outputs": [
    {
     "name": "stdout",
     "output_type": "stream",
     "text": [
      "RMSE for Random Forest: 144879.8046595425\n"
     ]
    }
   ],
   "source": [
    "print(f\"RMSE for Random Forest: {rmse_rf}\")"
   ]
  }
 ],
 "metadata": {
  "kernelspec": {
   "display_name": "Python 3 (ipykernel)",
   "language": "python",
   "name": "python3"
  },
  "language_info": {
   "codemirror_mode": {
    "name": "ipython",
    "version": 3
   },
   "file_extension": ".py",
   "mimetype": "text/x-python",
   "name": "python",
   "nbconvert_exporter": "python",
   "pygments_lexer": "ipython3",
   "version": "3.11.5"
  }
 },
 "nbformat": 4,
 "nbformat_minor": 5
}
